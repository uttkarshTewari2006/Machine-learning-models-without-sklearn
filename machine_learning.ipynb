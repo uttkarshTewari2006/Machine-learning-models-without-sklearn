{
 "cells": [
  {
   "cell_type": "code",
   "execution_count": 1,
   "metadata": {},
   "outputs": [],
   "source": [
    "import linear_regression\n",
    "import knn\n",
    "import pandas\n",
    "import numpy as np\n",
    "from sklearn import datasets\n",
    "from sklearn import model_selection\n",
    "from desision_tree import DecisionTree\n",
    "import math"
   ]
  },
  {
   "cell_type": "code",
   "execution_count": 3,
   "metadata": {},
   "outputs": [
    {
     "name": "stdout",
     "output_type": "stream",
     "text": [
      "(442, 10)\n",
      "67.81699884274059\n",
      "68.33903887084524\n"
     ]
    }
   ],
   "source": [
    "diabetes_dataset = datasets.load_diabetes()\n",
    "\n",
    "\n",
    "features = np.array(diabetes_dataset['data'])\n",
    "labels = np.array(diabetes_dataset['target'])\n",
    "\n",
    "train_features, test_features, train_labels, test_labels = model_selection.train_test_split(features, labels, test_size=0.2)\n",
    "\n",
    "lr = linear_regression.linear_regression()\n",
    "knn = knn.K(type = \"average\")\n",
    "\n",
    "\n",
    "print(features.shape)\n",
    "lr.fit(train_features, train_labels)\n",
    "knn.fit(train_features, train_labels)\n",
    "\n",
    "Y_pred_lr = lr.predict(test_features)\n",
    "Y_pred_knn = knn.predict(test_features)\n",
    "\n",
    "\n",
    "error_lr = math.sqrt(np.sum((Y_pred_lr - test_labels)**2) / len(Y_pred_lr))\n",
    "error_knn = math.sqrt(np.sum((Y_pred_knn - test_labels)**2) / len(Y_pred_knn))\n",
    "\n",
    "\n",
    "print(error_knn)\n",
    "print(error_lr)"
   ]
  },
  {
   "cell_type": "code",
   "execution_count": 10,
   "metadata": {},
   "outputs": [
    {
     "name": "stdout",
     "output_type": "stream",
     "text": [
      "0.28888888888888886\n"
     ]
    }
   ],
   "source": [
    "from sklearn.datasets import load_iris\n",
    "from sklearn.model_selection import train_test_split\n",
    "from sklearn.neighbors import KNeighborsClassifier\n",
    "from sklearn.metrics import accuracy_score\n",
    "from knn import Knn\n",
    "\n",
    "# Load the Iris dataset\n",
    "iris = load_iris()\n",
    "X = iris.data\n",
    "y = iris.target\n",
    "\n",
    "# Split the dataset into training and testing sets\n",
    "X_train, X_test, y_train, y_test = train_test_split(X, y, test_size=0.3, random_state=42)\n",
    "\n",
    "# Initialize the KNN classifier\n",
    "knn = Knn(n=3, distance = \"L2\")\n",
    "\n",
    "# Fit the model on the training data\n",
    "knn.fit(X_train, y_train)\n",
    "\n",
    "# Predict on the test data\n",
    "y_pred = knn.predict(X_test)\n",
    "\n",
    "\n",
    "# Calculate the accuracy\n",
    "print(\"knn with iris accuracy: \", np.sum(y_pred == y_test) / len(y_test))\n",
    "\n",
    "dt = DecisionTree(max_depth = 4)\n",
    "dt.fit(X_train, y_train)\n",
    "y_pred = dt.predict(y_test)\n",
    "\n",
    "print(\"decision tree with iris accuracy: \", np.sum(y_pred == y_test) / len(y_test))\n",
    "\n"
   ]
  },
  {
   "cell_type": "code",
   "execution_count": null,
   "metadata": {},
   "outputs": [],
   "source": []
  }
 ],
 "metadata": {
  "kernelspec": {
   "display_name": "Python 3",
   "language": "python",
   "name": "python3"
  },
  "language_info": {
   "codemirror_mode": {
    "name": "ipython",
    "version": 3
   },
   "file_extension": ".py",
   "mimetype": "text/x-python",
   "name": "python",
   "nbconvert_exporter": "python",
   "pygments_lexer": "ipython3",
   "version": "3.11.9"
  }
 },
 "nbformat": 4,
 "nbformat_minor": 2
}
