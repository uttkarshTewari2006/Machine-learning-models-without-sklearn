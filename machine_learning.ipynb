{
 "cells": [
  {
   "cell_type": "code",
   "execution_count": 12,
   "metadata": {},
   "outputs": [],
   "source": [
    "import linear_regression\n",
    "import knn\n",
    "import pandas\n",
    "import numpy as np\n",
    "from sklearn import datasets\n",
    "from sklearn import model_selection\n",
    "import math"
   ]
  },
  {
   "cell_type": "code",
   "execution_count": 13,
   "metadata": {},
   "outputs": [
    {
     "name": "stdout",
     "output_type": "stream",
     "text": [
      "(442, 10)\n",
      "76.29127011060999\n",
      "76.97911217676952\n"
     ]
    }
   ],
   "source": [
    "diabetes_dataset = datasets.load_diabetes()\n",
    "\n",
    "\n",
    "features = np.array(diabetes_dataset['data'])\n",
    "labels = np.array(diabetes_dataset['target'])\n",
    "\n",
    "train_features, test_features, train_labels, test_labels = model_selection.train_test_split(features, labels, test_size=0.2)\n",
    "\n",
    "lr = linear_regression.linear_regression()\n",
    "knn = knn.KNN(type = \"average\")\n",
    "\n",
    "\n",
    "print(features.shape)\n",
    "lr.fit(train_features, train_labels)\n",
    "knn.fit(train_features, train_labels)\n",
    "\n",
    "Y_pred_lr = lr.predict(test_features)\n",
    "Y_pred_knn = knn.predict(test_features)\n",
    "\n",
    "\n",
    "error_lr = math.sqrt(np.sum((Y_pred_lr - test_labels)**2) / len(Y_pred_lr))\n",
    "error_knn = math.sqrt(np.sum((Y_pred_knn - test_labels)**2) / len(Y_pred_knn))\n",
    "\n",
    "print(error_knn)\n",
    "print(error_lr)"
   ]
  }
 ],
 "metadata": {
  "kernelspec": {
   "display_name": "Python 3",
   "language": "python",
   "name": "python3"
  },
  "language_info": {
   "codemirror_mode": {
    "name": "ipython",
    "version": 3
   },
   "file_extension": ".py",
   "mimetype": "text/x-python",
   "name": "python",
   "nbconvert_exporter": "python",
   "pygments_lexer": "ipython3",
   "version": "3.11.9"
  }
 },
 "nbformat": 4,
 "nbformat_minor": 2
}
